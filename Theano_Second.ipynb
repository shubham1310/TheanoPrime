{
 "cells": [
  {
   "cell_type": "code",
   "execution_count": 13,
   "metadata": {
    "collapsed": true
   },
   "outputs": [],
   "source": [
    "import numpy as np"
   ]
  },
  {
   "cell_type": "code",
   "execution_count": 84,
   "metadata": {
    "collapsed": false
   },
   "outputs": [
    {
     "name": "stdout",
     "output_type": "stream",
     "text": [
      "We will Come back to this and understand it in detail\n"
     ]
    }
   ],
   "source": [
    "import theano\n",
    "import theano.tensor as T\n",
    "\n",
    "k = T.iscalar(\"k\")\n",
    "A = T.vector(\"A\")\n",
    "\n",
    "# Symbolic description of the result\n",
    "result, updates = theano.scan(fn=lambda prior_result, A: prior_result * A,\n",
    "                              outputs_info=T.ones_like(A),\n",
    "                              non_sequences=A,\n",
    "                              n_steps=k)\n",
    "\n",
    "# We only care about A**k, but scan has provided us with A**1 through A**k.\n",
    "# Discard the values that we don't care about. Scan is smart enough to\n",
    "# notice this and not waste memory saving them.\n",
    "final_result = result[-1]\n",
    "\n",
    "# compiled function that returns A**k\n",
    "power = theano.function(inputs=[A,k], outputs=final_result, updates=updates)\n",
    "\n",
    "print \"We will Come back to this and understand it in detail\""
   ]
  },
  {
   "cell_type": "code",
   "execution_count": 85,
   "metadata": {
    "collapsed": false
   },
   "outputs": [
    {
     "name": "stdout",
     "output_type": "stream",
     "text": [
      "[  0.   1.   4.   9.  16.  25.  36.  49.  64.  81.]\n",
      "[ 0.]\n"
     ]
    }
   ],
   "source": [
    "\n",
    "print(power(range(10),2))\n",
    "print(power(range(1),4))"
   ]
  },
  {
   "cell_type": "code",
   "execution_count": 12,
   "metadata": {
    "collapsed": false
   },
   "outputs": [
    {
     "data": {
      "text/plain": [
       "8"
      ]
     },
     "execution_count": 12,
     "metadata": {},
     "output_type": "execute_result"
    }
   ],
   "source": [
    "# What's the lambda thing ?\n",
    "fn=lambda prior_result, A: prior_result * A\n",
    "fn(4,2)\n",
    "# It is basically functions\n"
   ]
  },
  {
   "cell_type": "markdown",
   "metadata": {},
   "source": [
    "## Accumulation\n",
    "### In the scan operator, the first parameter of the lambda function is the  accumulated variable from the last iteration"
   ]
  },
  {
   "cell_type": "code",
   "execution_count": 82,
   "metadata": {
    "collapsed": false
   },
   "outputs": [],
   "source": [
    "x = T.scalar()\n",
    "\n",
    "acc,upd = theano.scan(fn = lambda temp : temp + 1, outputs_info=theano.shared(np.zeros(1)),n_steps=k)\n"
   ]
  },
  {
   "cell_type": "markdown",
   "metadata": {},
   "source": [
    "* Temp accumulates the result.\n",
    "\n",
    "* outputs_info stores the initial value of the accumulator\n",
    "\n",
    "* n_steps tells the number of iteration"
   ]
  },
  {
   "cell_type": "code",
   "execution_count": 83,
   "metadata": {
    "collapsed": false
   },
   "outputs": [],
   "source": [
    "acc_fn = theano.function([k],acc,updates=upd)"
   ]
  },
  {
   "cell_type": "markdown",
   "metadata": {},
   "source": [
    "* Hence, the parameter here is only the number of times to add 1"
   ]
  },
  {
   "cell_type": "code",
   "execution_count": 29,
   "metadata": {
    "collapsed": false
   },
   "outputs": [
    {
     "name": "stdout",
     "output_type": "stream",
     "text": [
      "[[ 1.]\n",
      " [ 2.]\n",
      " [ 3.]]\n"
     ]
    }
   ],
   "source": [
    "print acc_fn(3)"
   ]
  },
  {
   "cell_type": "markdown",
   "metadata": {},
   "source": [
    "#### Variable Accumulator"
   ]
  },
  {
   "cell_type": "code",
   "execution_count": 88,
   "metadata": {
    "collapsed": false
   },
   "outputs": [],
   "source": [
    "x = T.scalar()\n",
    "inc = T.scalar()\n",
    "acc,upd = theano.scan(fn = lambda temp, inc : temp + inc, outputs_info=theano.shared(np.zeros(1)),non_sequences = inc, n_steps=k)\n"
   ]
  },
  {
   "cell_type": "markdown",
   "metadata": {},
   "source": [
    "* __inc__ is a scalar, which is added to the accumulator in each iteration\n",
    "* In a for loop, you can equate __non_sequences__ to variables that is used wholly in each iteration\n",
    "> Consider this C for  loop\n",
    ">  <pre><code> for (i = 1; i < 10; i++)\n",
    " >   sum = sum + a\n",
    " > </pre></code>\n",
    "\n",
    "* Here , a is added in each iteration. These variables go in the non_sequences block"
   ]
  },
  {
   "cell_type": "code",
   "execution_count": 89,
   "metadata": {
    "collapsed": false
   },
   "outputs": [],
   "source": [
    "\n",
    "acc_fn = theano.function([inc,k],acc,updates=upd)"
   ]
  },
  {
   "cell_type": "markdown",
   "metadata": {},
   "source": [
    "+ So, now we have two parameters __inc__ and __k__"
   ]
  },
  {
   "cell_type": "code",
   "execution_count": 90,
   "metadata": {
    "collapsed": false
   },
   "outputs": [
    {
     "data": {
      "text/plain": [
       "array([[ 2.],\n",
       "       [ 4.],\n",
       "       [ 6.]])"
      ]
     },
     "execution_count": 90,
     "metadata": {},
     "output_type": "execute_result"
    }
   ],
   "source": [
    "acc_fn(2,3)"
   ]
  },
  {
   "cell_type": "markdown",
   "metadata": {},
   "source": [
    "* We can have more non_sequence variables\n",
    "> Consider the following piece of code\n",
    "> <pre> <code> for (i = 1; i < k ; i++)\n",
    ">        x = x * s + t \n",
    "       </code></pre>"
   ]
  },
  {
   "cell_type": "code",
   "execution_count": 59,
   "metadata": {
    "collapsed": false
   },
   "outputs": [],
   "source": [
    "s = T.scalar('s')\n",
    "t = T.scalar('t')\n",
    "def odd_inc(x,s,t):\n",
    "    x = x * s + t\n",
    "    return x\n",
    "\n",
    "acc,upd = theano.scan(fn = odd_inc, outputs_info=theano.shared(np.zeros(1)),non_sequences = [t,s], n_steps=k)\n",
    "\n",
    "acc_fn = theano.function([s,k,t],acc,updates=upd)"
   ]
  },
  {
   "cell_type": "code",
   "execution_count": 60,
   "metadata": {
    "collapsed": false
   },
   "outputs": [
    {
     "data": {
      "text/plain": [
       "array([[   2.],\n",
       "       [  10.],\n",
       "       [  42.],\n",
       "       [ 170.],\n",
       "       [ 682.]])"
      ]
     },
     "execution_count": 60,
     "metadata": {},
     "output_type": "execute_result"
    }
   ],
   "source": [
    "acc_fn(2,5,4)"
   ]
  },
  {
   "cell_type": "markdown",
   "metadata": {},
   "source": [
    "## No Accumulation\n",
    "\n",
    "#### If there no accumulation of results, we can set __outputs_info__ to None. This indicates to scan that it doesn’t need to pass the prior result to fn. ####\n",
    "\n",
    "> The general order of function parameters to fn is:\n",
    "\n",
    "> <pre><code>fn(sequences (if any), prior result(s) (if needed), non-sequences (if any))</code></pre>\n",
    "\n",
    "### Dot Product"
   ]
  },
  {
   "cell_type": "code",
   "execution_count": 111,
   "metadata": {
    "collapsed": false
   },
   "outputs": [],
   "source": [
    "s = T.vector('s')\n",
    "t = T.vector('t')\n",
    "\n",
    "def vec_mul(s,t):\n",
    "    x = s * t\n",
    "    return x\n",
    "\n",
    "acc,upd = theano.scan(fn = vec_mul, outputs_info = None, sequences = [s,t])\n",
    "\n",
    "acc_fn = theano.function([s,t],acc,updates=upd)"
   ]
  },
  {
   "cell_type": "markdown",
   "metadata": {},
   "source": [
    "### And then sum up the results\n",
    "> We do an elementwise multiplication and then add them up\n",
    "\n",
    "Equate this with the following block of code \n",
    "> <pre> <code> for (i = 1; i< 10; i++)\n",
    ">         x[i] = s[i] * t[i]\n",
    "</code> </pre>"
   ]
  },
  {
   "cell_type": "code",
   "execution_count": 115,
   "metadata": {
    "collapsed": false
   },
   "outputs": [
    {
     "data": {
      "text/plain": [
       "12.0"
      ]
     },
     "execution_count": 115,
     "metadata": {},
     "output_type": "execute_result"
    }
   ],
   "source": [
    "acc_fn(np.asarray([3,1,2]),np.asarray([2,2,2])).sum()"
   ]
  },
  {
   "cell_type": "markdown",
   "metadata": {},
   "source": [
    "### Note the order of arguements in vec_mul().\n",
    "> Try and see what happens if you put s at the beginning"
   ]
  },
  {
   "cell_type": "code",
   "execution_count": 121,
   "metadata": {
    "collapsed": false
   },
   "outputs": [],
   "source": [
    "s = T.vector('s')\n",
    "t = T.vector('t')\n",
    "def vec_mul(s,t,x):\n",
    "    v =  s * t\n",
    "    return v\n",
    "outputs_info = T.as_tensor_variable(np.asarray(0, np.float64))\n",
    "acc,upd = theano.scan(fn = vec_mul, outputs_info = outputs_info, sequences = [s,t])\n",
    "\n",
    "acc_fn = theano.function([s,t],acc,updates=upd)"
   ]
  },
  {
   "cell_type": "code",
   "execution_count": 124,
   "metadata": {
    "collapsed": false
   },
   "outputs": [
    {
     "data": {
      "text/plain": [
       "array([  6.,   8.,  15.])"
      ]
     },
     "execution_count": 124,
     "metadata": {},
     "output_type": "execute_result"
    }
   ],
   "source": [
    "acc_fn([3,2,3],[2, 4,5])"
   ]
  },
  {
   "cell_type": "markdown",
   "metadata": {},
   "source": [
    "# Logistic Regression"
   ]
  },
  {
   "cell_type": "code",
   "execution_count": 129,
   "metadata": {
    "collapsed": true
   },
   "outputs": [],
   "source": [
    "class LogisticRegression(object):\n",
    "    \"\"\"Multi-class Logistic Regression Class\n",
    "\n",
    "    The logistic regression is fully described by a weight matrix :math:`W`\n",
    "    and bias vector :math:`b`. Classification is done by projecting data\n",
    "    points onto a set of hyperplanes, the distance to which is used to\n",
    "    determine a class membership probability.\n",
    "    \"\"\"\n",
    "\n",
    "    def __init__(self, input, n_in, n_out):\n",
    "        \"\"\" Initialize the parameters of the logistic regression\n",
    "\n",
    "        :type input: theano.tensor.TensorType\n",
    "        :param input: symbolic variable that describes the input of the\n",
    "                      architecture (one minibatch)\n",
    "\n",
    "        :type n_in: int\n",
    "        :param n_in: number of input units, the dimension of the space in\n",
    "                     which the datapoints lie\n",
    "\n",
    "        :type n_out: int\n",
    "        :param n_out: number of output units, the dimension of the space in\n",
    "                      which the labels lie\n",
    "\n",
    "        \"\"\"\n",
    "        # start-snippet-1\n",
    "        # initialize with 0 the weights W as a matrix of shape (n_in, n_out)\n",
    "        self.W = theano.shared(\n",
    "            value=np.zeros(\n",
    "                (n_in, n_out),\n",
    "                dtype=theano.config.floatX\n",
    "            ),\n",
    "            name='W',\n",
    "            borrow=True\n",
    "        )\n",
    "        # initialize the biases b as a vector of n_out 0s\n",
    "        self.b = theano.shared(\n",
    "            value=np.zeros(\n",
    "                (n_out,),\n",
    "                dtype=theano.config.floatX\n",
    "            ),\n",
    "            name='b',\n",
    "            borrow=True\n",
    "        )\n",
    "\n",
    "        # symbolic expression for computing the matrix of class-membership\n",
    "        # probabilities\n",
    "        # Where:\n",
    "        # W is a matrix where column-k represent the separation hyperplane for\n",
    "        # class-k\n",
    "        # x is a matrix where row-j  represents input training sample-j\n",
    "        # b is a vector where element-k represent the free parameter of\n",
    "        # hyperplane-k\n",
    "        self.p_y_given_x = T.nnet.softmax(T.dot(input, self.W) + self.b)\n",
    "\n",
    "        # symbolic description of how to compute prediction as class whose\n",
    "        # probability is maximal\n",
    "        self.y_pred = T.argmax(self.p_y_given_x, axis=1)\n",
    "        # end-snippet-1\n",
    "\n",
    "        # parameters of the model\n",
    "        self.params = [self.W, self.b]\n",
    "\n",
    "        # keep track of model input\n",
    "        self.input = input\n",
    "\n",
    "    def negative_log_likelihood(self, y):\n",
    "        \"\"\"Return the mean of the negative log-likelihood of the prediction\n",
    "        of this model under a given target distribution.\n",
    "\n",
    "        .. math::\n",
    "\n",
    "            \\frac{1}{|\\mathcal{D}|} \\mathcal{L} (\\theta=\\{W,b\\}, \\mathcal{D}) =\n",
    "            \\frac{1}{|\\mathcal{D}|} \\sum_{i=0}^{|\\mathcal{D}|}\n",
    "                \\log(P(Y=y^{(i)}|x^{(i)}, W,b)) \\\\\n",
    "            \\ell (\\theta=\\{W,b\\}, \\mathcal{D})\n",
    "\n",
    "        :type y: theano.tensor.TensorType\n",
    "        :param y: corresponds to a vector that gives for each example the\n",
    "                  correct label\n",
    "\n",
    "        Note: we use the mean instead of the sum so that\n",
    "              the learning rate is less dependent on the batch size\n",
    "        \"\"\"\n",
    "        # start-snippet-2\n",
    "        # y.shape[0] is (symbolically) the number of rows in y, i.e.,\n",
    "        # number of examples (call it n) in the minibatch\n",
    "        # T.arange(y.shape[0]) is a symbolic vector which will contain\n",
    "        # [0,1,2,... n-1] T.log(self.p_y_given_x) is a matrix of\n",
    "        # Log-Probabilities (call it LP) with one row per example and\n",
    "        # one column per class LP[T.arange(y.shape[0]),y] is a vector\n",
    "        # v containing [LP[0,y[0]], LP[1,y[1]], LP[2,y[2]], ...,\n",
    "        # LP[n-1,y[n-1]]] and T.mean(LP[T.arange(y.shape[0]),y]) is\n",
    "        # the mean (across minibatch examples) of the elements in v,\n",
    "        # i.e., the mean log-likelihood across the minibatch.\n",
    "        return -T.mean(T.log(self.p_y_given_x)[T.arange(y.shape[0]), y])\n",
    "        # end-snippet-2\n",
    "\n",
    "    def errors(self, y):\n",
    "        \"\"\"Return a float representing the number of errors in the minibatch\n",
    "        over the total number of examples of the minibatch ; zero one\n",
    "        loss over the size of the minibatch\n",
    "\n",
    "        :type y: theano.tensor.TensorType\n",
    "        :param y: corresponds to a vector that gives for each example the\n",
    "                  correct label\n",
    "        \"\"\"\n",
    "\n",
    "        # check if y has same dimension of y_pred\n",
    "        if y.ndim != self.y_pred.ndim:\n",
    "            raise TypeError(\n",
    "                'y should have the same shape as self.y_pred',\n",
    "                ('y', y.type, 'y_pred', self.y_pred.type)\n",
    "            )\n",
    "        # check if y is of the correct datatype\n",
    "        if y.dtype.startswith('int'):\n",
    "            # the T.neq operator returns a vector of 0s and 1s, where 1\n",
    "            # represents a mistake in prediction\n",
    "            return T.mean(T.neq(self.y_pred, y))\n",
    "        else:\n",
    "            raise NotImplementedError()\n"
   ]
  },
  {
   "cell_type": "markdown",
   "metadata": {},
   "source": [
    "#### Create an object"
   ]
  },
  {
   "cell_type": "code",
   "execution_count": 130,
   "metadata": {
    "collapsed": false
   },
   "outputs": [],
   "source": [
    "    # generate symbolic variables for input (x and y represent a\n",
    "    # minibatch)\n",
    "    x = T.matrix('x')  # data, presented as rasterized images\n",
    "    y = T.ivector('y')  # labels, presented as 1D vector of [int] labels\n",
    "\n",
    "    # construct the logistic regression class\n",
    "    # Each MNIST image has size 28*28\n",
    "    classifier = LogisticRegression(input=x, n_in=28 * 28, n_out=10)"
   ]
  },
  {
   "cell_type": "code",
   "execution_count": 131,
   "metadata": {
    "collapsed": true
   },
   "outputs": [],
   "source": [
    "    # the cost we minimize during training is the negative log likelihood of\n",
    "    # the model in symbolic format\n",
    "    cost = classifier.negative_log_likelihood(y)"
   ]
  },
  {
   "cell_type": "markdown",
   "metadata": {},
   "source": [
    "### Get the gradients for bias and weight"
   ]
  },
  {
   "cell_type": "code",
   "execution_count": 133,
   "metadata": {
    "collapsed": false
   },
   "outputs": [],
   "source": [
    "g_W = T.grad(cost=cost, wrt=classifier.W)\n",
    "g_b = T.grad(cost=cost, wrt=classifier.b)"
   ]
  },
  {
   "cell_type": "markdown",
   "metadata": {},
   "source": [
    "### Specify the updates"
   ]
  },
  {
   "cell_type": "code",
   "execution_count": 137,
   "metadata": {
    "collapsed": false
   },
   "outputs": [],
   "source": [
    " # specify how to update the parameters of the model as a list of\n",
    "    # (variable, update expression) pairs.\n",
    "learning_rate = T.scalar('lr')\n",
    "updates = [(classifier.W, classifier.W - learning_rate * g_W),\n",
    "               (classifier.b, classifier.b - learning_rate * g_b)]"
   ]
  },
  {
   "cell_type": "code",
   "execution_count": 163,
   "metadata": {
    "collapsed": false
   },
   "outputs": [
    {
     "name": "stdout",
     "output_type": "stream",
     "text": [
      "... loading data\n"
     ]
    }
   ],
   "source": [
    "from logistic_sgd import load_data\n",
    "import os\n",
    "\n",
    "dataset='mnist.pkl.gz'\n",
    "\n",
    "datasets = load_data(dataset)\n",
    "batch_size = 500\n",
    "\n",
    "\n",
    "train_set_x, train_set_y = datasets[0]\n",
    "valid_set_x, valid_set_y = datasets[1]\n",
    "test_set_x, test_set_y = datasets[2]\n",
    "\n",
    "# compute number of minibatches for training, validation and testing\n",
    "n_train_batches = train_set_x.get_value(borrow=True).shape[0] // batch_size\n",
    "n_valid_batches = valid_set_x.get_value(borrow=True).shape[0] // batch_size\n",
    "n_test_batches = test_set_x.get_value(borrow=True).shape[0] // batch_size\n",
    "    \n",
    "index = T.lscalar('index')\n",
    "# compiling a Theano function `train_model` that returns the cost, but in\n",
    "    # the same time updates the parameter of the model based on the rules\n",
    "    # defined in `updates`\n",
    "train_model = theano.function(\n",
    "        inputs=[index,learning_rate],\n",
    "        outputs=cost,\n",
    "        updates=updates,\n",
    "        givens={\n",
    "            x: train_set_x[index * batch_size: (index + 1) * batch_size],\n",
    "            y: train_set_y[index * batch_size: (index + 1) * batch_size]\n",
    "        }\n",
    "    )"
   ]
  },
  {
   "cell_type": "markdown",
   "metadata": {},
   "source": [
    "### Lets create the validation and the test function"
   ]
  },
  {
   "cell_type": "code",
   "execution_count": 165,
   "metadata": {
    "collapsed": false
   },
   "outputs": [],
   "source": [
    "test_model = theano.function(\n",
    "        inputs=[index],\n",
    "        outputs=classifier.errors(y),\n",
    "        givens={\n",
    "            x: test_set_x[index * batch_size: (index + 1) * batch_size],\n",
    "            y: test_set_y[index * batch_size: (index + 1) * batch_size]\n",
    "        }\n",
    "    )\n",
    "\n",
    "validate_model = theano.function(\n",
    "        inputs=[index],\n",
    "        outputs=classifier.errors(y),\n",
    "        givens={\n",
    "            x: valid_set_x[index * batch_size: (index + 1) * batch_size],\n",
    "            y: valid_set_y[index * batch_size: (index + 1) * batch_size]\n",
    "        }\n",
    "    )"
   ]
  },
  {
   "cell_type": "code",
   "execution_count": 211,
   "metadata": {
    "collapsed": false
   },
   "outputs": [],
   "source": [
    "test_losses = [test_model(i)\n",
    "                                   for i in range(n_test_batches)]\n",
    "test_score = np.mean(test_losses)"
   ]
  },
  {
   "cell_type": "code",
   "execution_count": 212,
   "metadata": {
    "collapsed": false
   },
   "outputs": [
    {
     "data": {
      "text/plain": [
       "0.2036"
      ]
     },
     "execution_count": 212,
     "metadata": {},
     "output_type": "execute_result"
    }
   ],
   "source": [
    "test_score"
   ]
  },
  {
   "cell_type": "code",
   "execution_count": 172,
   "metadata": {
    "collapsed": false
   },
   "outputs": [],
   "source": [
    "validation_losses = [validate_model(i)\n",
    "                                     for i in range(n_valid_batches)]\n",
    "this_validation_loss = np.mean(validation_losses)"
   ]
  },
  {
   "cell_type": "code",
   "execution_count": 210,
   "metadata": {
    "collapsed": false
   },
   "outputs": [
    {
     "name": "stdout",
     "output_type": "stream",
     "text": [
      "0.2036\n"
     ]
    }
   ],
   "source": [
    "for i in range(100):\n",
    "    for minibatch_index in range(n_train_batches):\n",
    "                minibatch_avg_cost = train_model(minibatch_index,0.0001)\n",
    "test_losses = [test_model(i)\n",
    "                                   for i in range(n_test_batches)]\n",
    "test_score = np.mean(test_losses)\n",
    "print test_score"
   ]
  },
  {
   "cell_type": "code",
   "execution_count": 222,
   "metadata": {
    "collapsed": false
   },
   "outputs": [],
   "source": [
    "import matplotlib.pyplot as plt\n",
    "def predict(i):\n",
    "    \"\"\"\n",
    "    An example of how to load a trained model and use it\n",
    "    to predict labels.\n",
    "    \"\"\"\n",
    "\n",
    "    # load the saved model\n",
    "    classifier = pickle.load(open('best_model.pkl'))\n",
    "\n",
    "    # compile a predictor function\n",
    "    predict_model = theano.function(\n",
    "        inputs=[classifier.input],\n",
    "        outputs=classifier.y_pred)\n",
    "\n",
    "    # We can test it on some examples from test test\n",
    "    dataset='mnist.pkl.gz'\n",
    "    datasets = load_data(dataset)\n",
    "    test_set_x, test_set_y = datasets[2]\n",
    "    test_set_x = test_set_x.get_value()\n",
    "    plt.imshow(test_set_x[i-1].reshape(28,28),cmap='Greys')\n",
    "    plt.show()\n",
    "\n",
    "    predicted_values = predict_model(test_set_x[i-1:i])\n",
    "    return predicted_values\n"
   ]
  },
  {
   "cell_type": "code",
   "execution_count": 224,
   "metadata": {
    "collapsed": false
   },
   "outputs": [
    {
     "name": "stdout",
     "output_type": "stream",
     "text": [
      "... loading data\n"
     ]
    },
    {
     "data": {
      "image/png": "[encoded data removed]",
      "text/plain": [
       "<matplotlib.figure.Figure at 0x7f72133f2390>"
      ]
     },
     "metadata": {},
     "output_type": "display_data"
    },
    {
     "name": "stdout",
     "output_type": "stream",
     "text": [
      "THe label for the figure is [5]\n"
     ]
    }
   ],
   "source": [
    "\n",
    "%matplotlib inline\n",
    "with open('best_model.pkl', 'wb') as f:\n",
    "                        pickle.dump(classifier, f)\n",
    "        \n",
    "number = 103\n",
    "a = predict(number)\n",
    "print \"THe label for the figure is \"+ str(a)"
   ]
  },
  {
   "cell_type": "markdown",
   "metadata": {},
   "source": [
    "## Let's create a RNN"
   ]
  },
  {
   "cell_type": "code",
   "execution_count": 347,
   "metadata": {
    "collapsed": true
   },
   "outputs": [],
   "source": [
    "import matplotlib.pyplot as plt\n",
    "import numpy as np\n",
    "import theano\n",
    "import theano.tensor as T\n",
    "import sys\n",
    "\n",
    "dtype = theano.config.floatX\n",
    "learning_rate = 0.05\n",
    "n_in = 256\n",
    "n_hid = 1000\n",
    "n_out = 256\n",
    "n_epoch = 10\n",
    "\n",
    "\n",
    "def sample_weights(SizeX, SizeY):\n",
    "    values = np.ndarray([SizeX, SizeY], dtype = dtype)\n",
    "    for dx in range(SizeX):\n",
    "        row_val = np.random.normal(loc = 0.0, scale = 0.1, size=(SizeY,))\n",
    "        values[dx,:] = row_val\n",
    "    _,svs,_ = np.linalg.svd(values)\n",
    "    values = values / svs[0]\n",
    "    return values\n"
   ]
  },
  {
   "cell_type": "code",
   "execution_count": 348,
   "metadata": {
    "collapsed": true
   },
   "outputs": [],
   "source": [
    "\n",
    "def generate_parameters(n_in, n_hid, n_out):\n",
    "    b_out = theano.shared(np.zeros(n_out, dtype = dtype))\n",
    "    b_hid = theano.shared(np.zeros(n_hid, dtype = dtype))\n",
    "    W_ih = theano.shared(sample_weights(n_in, n_hid))\n",
    "    W_hh = theano.shared(sample_weights(n_hid, n_hid))\n",
    "    W_ho = theano.shared(sample_weights(n_hid, n_out))\n",
    "    h_0 = theano.shared(np.zeros(n_hid, dtype = dtype))\n",
    "    return h_0, b_out, b_hid, W_ih, W_hh, W_ho\n",
    "\n",
    "def logistic_function(vec):\n",
    "    return 1/(1 + T.exp(-vec))\n",
    "def activ_tan(vec):\n",
    "    return T.tanh(vec)\n",
    "def one_step(x_t, hid_s, W_ih, W_hh, W_ho, b_out, b_hid):\n",
    "    h_t = activ_tan(theano.dot(x_t, W_ih) + theano.dot(hid_s, W_hh) + b_hid)\n",
    "    return h_t\n",
    "\n"
   ]
  },
  {
   "cell_type": "code",
   "execution_count": 349,
   "metadata": {
    "collapsed": true
   },
   "outputs": [],
   "source": [
    "hid_s, b_out, b_hid, W_ih, W_hh, W_ho = generate_parameters(n_in,n_hid,n_out)\n",
    "\n",
    "params = [ b_out, b_hid, W_ih, W_hh, W_ho]\n",
    "\n",
    "x_t = theano.shared(np.random.uniform(size = n_in))\n",
    "\n",
    "inp = T.matrix(dtype = dtype)\n",
    "\n",
    "target = T.matrix(dtype = dtype)\n",
    "\n",
    "hidden_s,_ = theano.scan(fn = one_step, sequences=inp, outputs_info = hid_s, non_sequences = [ W_ih, W_hh, W_ho, b_out, b_hid])\n",
    "\n",
    "#hid_s = hidden_s[hidden_s.shape[0]-1]\n",
    "\n",
    "y_t = theano.dot(hidden_s[hidden_s.shape[0]-1], W_ho) + b_out\n",
    "\n",
    "p_y_given_x = T.nnet.softmax(y_t)\n",
    "\n",
    "y_t = T.argmax(p_y_given_x, axis = 1)\n",
    "\n",
    "lr = theano.shared(np.cast[dtype](learning_rate))\n",
    "\n",
    "cost = -T.sum(target*T.log(p_y_given_x) + (1.- target)*T.log(1. - p_y_given_x))\n"
   ]
  },
  {
   "cell_type": "code",
   "execution_count": 350,
   "metadata": {
    "collapsed": true
   },
   "outputs": [],
   "source": [
    "def get_train_graph(target, inp, cost):\n",
    "    grads = []\n",
    "    for param in params:\n",
    "        grads.append(T.grad(cost, param))\n",
    "    update = []\n",
    "    for param,grad in zip(params, grads):\n",
    "        update.append((param, param - grad*lr))\n",
    "    train_fn = theano.function(inputs = [inp,target], outputs = cost, updates = update)\n",
    "    return train_fn\n"
   ]
  },
  {
   "cell_type": "code",
   "execution_count": 351,
   "metadata": {
    "collapsed": true
   },
   "outputs": [],
   "source": [
    "\n",
    "def get_pred_graph(inp):\n",
    "    predictions = theano.function(inputs = [inp], outputs = y_t, updates = [(hid_s, hidden_s[hidden_s.shape[0]-1])])\n",
    "    return predictions\n"
   ]
  },
  {
   "cell_type": "code",
   "execution_count": 352,
   "metadata": {
    "collapsed": true
   },
   "outputs": [],
   "source": [
    "\n",
    "def convert_string(file):\n",
    "    f = open(file,'r')\n",
    "    text = f.read()\n",
    "    f.close()\n",
    "    inp = np.zeros([len(text), 256],dtype=dtype)\n",
    "    out = np.zeros([len(text), 256],dtype=dtype)\n",
    "    counter = 0\n",
    "    for char in text:\n",
    "        if(counter > 0):\n",
    "            inp[counter][ord(char)] = 1\n",
    "            out[counter-1][ord(char)] = 1\n",
    "        counter = counter + 1\n",
    "    return [inp, out]\n"
   ]
  },
  {
   "cell_type": "code",
   "execution_count": 353,
   "metadata": {
    "collapsed": false
   },
   "outputs": [],
   "source": [
    "\n",
    "learn_rnn_fn = get_train_graph(target, inp, cost)\n",
    "pred_rnn_fn = get_pred_graph(inp)\n",
    "\n",
    "train_data = convert_string(\"log\")\n"
   ]
  },
  {
   "cell_type": "code",
   "execution_count": 357,
   "metadata": {
    "collapsed": false
   },
   "outputs": [],
   "source": [
    "j = 0\n",
    "def train_rnn(train_data, n_epoch = 100):\n",
    "    train_err = np.ndarray(n_epoch)\n",
    "    for i in range(n_epoch):\n",
    "        for j in range(len(train_data[0])):\n",
    "            tempInp = np.zeros([1,256],dtype=dtype);\n",
    "            tempInp[0] = train_data[0][j]\n",
    "            tempOut = np.zeros([1,256],dtype=dtype);\n",
    "            tempOut[0] = train_data[1][j]\n",
    "            train_cost = learn_rnn_fn(tempInp, tempOut)\n",
    "            sys.stdout.write(chr(pred_rnn_fn(tempInp)))\n",
    "            train_err[i]=train_err[i]+ train_cost\n",
    "        train_err[i]= train_err[i]/len(train_data[0])\n",
    "        print \"\"\n",
    "        if train_err[i] > 5*train_err[i-1]:\n",
    "            break\n",
    "    return train_err\n"
   ]
  },
  {
   "cell_type": "code",
   "execution_count": null,
   "metadata": {
    "collapsed": false
   },
   "outputs": [],
   "source": [
    "\n",
    "train_errors = train_rnn(train_data, n_epoch)\n",
    "for i in range(0,len(train_data[0])):\n",
    "    temp = np.zeros([1,256],dtype=dtype);\n",
    "    temp[0] = train_data[0][i]\n",
    "    sys.stdout.write(chr(pred_rnn_fn(temp)))\n",
    "\n"
   ]
  },
  {
   "cell_type": "code",
   "execution_count": 359,
   "metadata": {
    "collapsed": false
   },
   "outputs": [
    {
     "data": {
      "image/png": "[encoded data removed]",
      "text/plain": [
       "<matplotlib.figure.Figure at 0x7f7239360f10>"
      ]
     },
     "metadata": {},
     "output_type": "display_data"
    }
   ],
   "source": [
    "def plot_learning_curve(train_err):\n",
    "    plt.plot(np.arange(n_epoch), train_errors, 'b-')\n",
    "    plt.xlabel('epochs')\n",
    "    plt.ylabel('error')\n",
    "    plt.show()\n",
    "plot_learning_curve(train_errors)\n"
   ]
  },
  {
   "cell_type": "code",
   "execution_count": null,
   "metadata": {
    "collapsed": true
   },
   "outputs": [],
   "source": []
  },
  {
   "cell_type": "code",
   "execution_count": null,
   "metadata": {
    "collapsed": true
   },
   "outputs": [],
   "source": []
  }
 ],
 "metadata": {
  "kernelspec": {
   "display_name": "Python 2",
   "language": "python",
   "name": "python2"
  },
  "language_info": {
   "codemirror_mode": {
    "name": "ipython",
    "version": 2
   },
   "file_extension": ".py",
   "mimetype": "text/x-python",
   "name": "python",
   "nbconvert_exporter": "python",
   "pygments_lexer": "ipython2",
   "version": "2.7.11"
  }
 },
 "nbformat": 4,
 "nbformat_minor": 0
}
